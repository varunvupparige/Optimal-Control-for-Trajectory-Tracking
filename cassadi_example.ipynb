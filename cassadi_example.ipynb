{
 "cells": [
  {
   "cell_type": "code",
   "execution_count": 1,
   "metadata": {},
   "outputs": [
    {
     "name": "stdout",
     "output_type": "stream",
     "text": [
      "\n",
      "******************************************************************************\n",
      "This program contains Ipopt, a library for large-scale nonlinear optimization.\n",
      " Ipopt is released as open source code under the Eclipse Public License (EPL).\n",
      "         For more information visit http://projects.coin-or.org/Ipopt\n",
      "******************************************************************************\n",
      "\n",
      "This is Ipopt version 3.12.3, running with linear solver mumps.\n",
      "NOTE: Other linear solvers might be more efficient (see Ipopt documentation).\n",
      "\n",
      "Number of nonzeros in equality constraint Jacobian...:        0\n",
      "Number of nonzeros in inequality constraint Jacobian.:        4\n",
      "Number of nonzeros in Lagrangian Hessian.............:        2\n",
      "\n",
      "Total number of variables............................:        2\n",
      "                     variables with only lower bounds:        0\n",
      "                variables with lower and upper bounds:        2\n",
      "                     variables with only upper bounds:        0\n",
      "Total number of equality constraints.................:        0\n",
      "Total number of inequality constraints...............:        2\n",
      "        inequality constraints with only lower bounds:        0\n",
      "   inequality constraints with lower and upper bounds:        2\n",
      "        inequality constraints with only upper bounds:        0\n",
      "\n",
      "iter    objective    inf_pr   inf_du lg(mu)  ||d||  lg(rg) alpha_du alpha_pr  ls\n",
      "   0 1.0201500e+000 9.80e-001 6.76e-001  -1.0 0.00e+000    -  0.00e+000 0.00e+000   0\n",
      "   1 1.0586881e+000 9.43e-001 1.11e+000  -1.0 3.93e-001    -  3.26e-002 4.78e-002h  1\n",
      "   2 2.4376913e+000 0.00e+000 2.59e+000  -1.0 7.30e-001    -  4.82e-001 1.00e+000h  1\n",
      "   3 2.5509762e+000 0.00e+000 1.96e+000  -1.0 9.80e-001   0.0 2.39e-001 2.43e-001h  3\n",
      "   4 2.3705040e+000 0.00e+000 1.36e+000  -1.0 3.22e-001   1.3 2.87e-001 3.13e-001h  1\n",
      "   5 2.5257568e+000 0.00e+000 2.97e-001  -1.0 4.80e-001    -  9.70e-001 1.00e+000f  1\n",
      "   6 2.4729274e+000 0.00e+000 4.08e-001  -1.0 3.18e-001    -  9.54e-001 1.00e+000H  1\n",
      "   7 2.3603888e+000 0.00e+000 6.15e-002  -1.7 1.99e-001    -  8.65e-001 1.00e+000f  1\n",
      "   8 2.3436078e+000 0.00e+000 1.75e-003  -2.5 5.39e-002    -  1.00e+000 1.00e+000h  1\n",
      "   9 2.3412133e+000 0.00e+000 9.16e-006  -3.8 3.49e-003    -  1.00e+000 1.00e+000h  1\n",
      "iter    objective    inf_pr   inf_du lg(mu)  ||d||  lg(rg) alpha_du alpha_pr  ls\n",
      "  10 2.3410814e+000 0.00e+000 2.41e-008  -5.7 7.77e-005    -  1.00e+000 1.00e+000h  1\n",
      "  11 2.3410796e+000 0.00e+000 4.19e-012  -8.6 1.07e-006    -  1.00e+000 1.00e+000h  1\n",
      "\n",
      "Number of Iterations....: 11\n",
      "\n",
      "                                   (scaled)                 (unscaled)\n",
      "Objective...............:  2.3410795867087009e+000   2.3410795867087009e+000\n",
      "Dual infeasibility......:  4.1937974690954712e-012   4.1937974690954712e-012\n",
      "Constraint violation....:  0.0000000000000000e+000   0.0000000000000000e+000\n",
      "Complementarity.........:  2.5098269439482346e-009   2.5098269439482346e-009\n",
      "Overall NLP error.......:  2.5098269439482346e-009   2.5098269439482346e-009\n",
      "\n",
      "\n",
      "Number of objective function evaluations             = 19\n",
      "Number of objective gradient evaluations             = 12\n",
      "Number of equality constraint evaluations            = 0\n",
      "Number of inequality constraint evaluations          = 19\n",
      "Number of equality constraint Jacobian evaluations   = 0\n",
      "Number of inequality constraint Jacobian evaluations = 12\n",
      "Number of Lagrangian Hessian evaluations             = 11\n",
      "Total CPU secs in IPOPT (w/o function evaluations)   =      0.004\n",
      "Total CPU secs in NLP function evaluations           =      0.000\n",
      "\n",
      "EXIT: Optimal Solution Found.\n",
      "           F  :   t_proc      (avg)   t_wall      (avg)    n_eval\n",
      "       nlp_f  |        0 (       0)        0 (       0)        19\n",
      "       nlp_g  |        0 (       0)        0 (       0)        19\n",
      "  nlp_grad_f  |        0 (       0)        0 (       0)        13\n",
      "  nlp_hess_l  |        0 (       0)        0 (       0)        11\n",
      "   nlp_jac_g  |        0 (       0)        0 (       0)        13\n",
      "       total  |   4.00ms (  4.00ms)   4.06ms (  4.06ms)         1\n",
      "[0.348381, 0.651619]\n",
      "[0.34838147 0.65161852]\n"
     ]
    }
   ],
   "source": [
    "from casadi import *\n",
    "import numpy as np\n",
    "\n",
    "\n",
    "# objective function\n",
    "def get_objective(x):\n",
    "    A = SX.eye(2)\n",
    "    b = vertcat(1, 1)\n",
    "    \n",
    "    return x.T @ A @ x + b.T @ x + cos(x[1])\n",
    "\n",
    "\n",
    "# constraint terms\n",
    "def get_constraint_terms(x):\n",
    "    term1 = x[0] + x[1]\n",
    "    term2 = x[0]**2 + x[1]**2\n",
    "\n",
    "    return [term1, term2]\n",
    "\n",
    "\n",
    "# bounds\n",
    "def get_constraint_bounds():\n",
    "    lower_bound = [1, 0]\n",
    "    # in my problem, the first upper bound is infinity so I just set a very large number\n",
    "    upper_bound = [1000, 4]\n",
    "\n",
    "    return lower_bound, upper_bound\n",
    "\n",
    "\n",
    "# set the variables you want to optimize\n",
    "x1 = SX.sym('x1')\n",
    "x2 = SX.sym('x2')\n",
    "x = vertcat(x1, x2)\n",
    "\n",
    "# compute the objective\n",
    "objective = get_objective(x)\n",
    "\n",
    "# set the bound for x\n",
    "lbx = [0, 0]    # lower bound\n",
    "ubx = [4, 3]    # upper bound\n",
    "\n",
    "# set ohter bounds\n",
    "constraint_list = get_constraint_terms(x)\n",
    "lbg, ubg = get_constraint_bounds()\n",
    "\n",
    "# formulate the non-linear program problem\n",
    "nlp = {}\n",
    "# there might be many variables, you can put them in a list\n",
    "variable_list = [x1, x2]\n",
    "nlp['x'] = vertcat(*variable_list)  # set all the variables you want to optimize\n",
    "nlp['f'] = objective    # set the objective function \n",
    "nlp['g'] = vertcat(*constraint_list)    # set all the constraints\n",
    "\n",
    "\n",
    "# solve the problem\n",
    "F = nlpsol('F','ipopt',nlp)\n",
    "initial_guess = [0, 0]\n",
    "result = F(x0=initial_guess, lbx=lbx, ubx=ubx, lbg=lbg, ubg=ubg)\n",
    "\n",
    "x_opt = result['x']\n",
    "print(x_opt)\n",
    "\n",
    "print(np.array([float(x_opt[0]), float(x_opt[1])]))\n",
    "\n",
    "\n"
   ]
  },
  {
   "cell_type": "code",
   "execution_count": 3,
   "metadata": {},
   "outputs": [
    {
     "name": "stdout",
     "output_type": "stream",
     "text": [
      "@1=1, \n",
      "[[@1, 00], \n",
      " [00, @1]]\n"
     ]
    }
   ],
   "source": [
    "A = SX.eye(2)\n",
    "print(A)"
   ]
  },
  {
   "cell_type": "code",
   "execution_count": 5,
   "metadata": {},
   "outputs": [
    {
     "name": "stdout",
     "output_type": "stream",
     "text": [
      "[1, 1]\n"
     ]
    }
   ],
   "source": [
    "b = vertcat(1, 1)\n",
    "print(b)"
   ]
  },
  {
   "cell_type": "code",
   "execution_count": 12,
   "metadata": {},
   "outputs": [
    {
     "data": {
      "text/plain": [
       "array([[[1],\n",
       "        [2]],\n",
       "\n",
       "       [[5],\n",
       "        [9]]])"
      ]
     },
     "execution_count": 12,
     "metadata": {},
     "output_type": "execute_result"
    }
   ],
   "source": [
    "np.array([[[1],[2]],[[5],[9]]])"
   ]
  },
  {
   "cell_type": "code",
   "execution_count": 2,
   "metadata": {},
   "outputs": [
    {
     "name": "stdout",
     "output_type": "stream",
     "text": [
      "[1, 2]\n"
     ]
    }
   ],
   "source": [
    "l = [1,2,3,56459,56,6]\n",
    "print(l[:2])"
   ]
  },
  {
   "cell_type": "code",
   "execution_count": null,
   "metadata": {},
   "outputs": [],
   "source": []
  }
 ],
 "metadata": {
  "interpreter": {
   "hash": "1269f867419608ab7fae571f8861ffc7b43c06843c6b06bfa5b8be8a46809fc8"
  },
  "kernelspec": {
   "display_name": "Python 3.8.8 ('base')",
   "language": "python",
   "name": "python3"
  },
  "language_info": {
   "codemirror_mode": {
    "name": "ipython",
    "version": 3
   },
   "file_extension": ".py",
   "mimetype": "text/x-python",
   "name": "python",
   "nbconvert_exporter": "python",
   "pygments_lexer": "ipython3",
   "version": "3.8.8"
  },
  "orig_nbformat": 4
 },
 "nbformat": 4,
 "nbformat_minor": 2
}
