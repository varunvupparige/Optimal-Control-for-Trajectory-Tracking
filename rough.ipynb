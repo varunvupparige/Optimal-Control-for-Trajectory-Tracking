{
 "cells": [
  {
   "cell_type": "code",
   "execution_count": 1,
   "metadata": {},
   "outputs": [],
   "source": [
    "from time import time\n",
    "import numpy as np\n",
    "\n",
    "# Simulation params\n",
    "np.random.seed(10)\n",
    "time_step = 0.5 # time between steps in seconds\n",
    "sim_time = 120    # simulation time\n",
    "total_steps = sim_time/time_step\n",
    "\n",
    "\n",
    "# Car params\n",
    "x_init = 1.5\n",
    "y_init = 0.0\n",
    "theta_init = np.pi/2\n",
    "v_max = 1\n",
    "v_min = 0\n",
    "w_max = 1\n",
    "w_min = -1\n",
    "\n",
    "def lissajous(k):\n",
    "    xref_start = 0\n",
    "    yref_start = 0\n",
    "    A = 2\n",
    "    B = 2\n",
    "    a = 2*np.pi/50\n",
    "    b = 3*a\n",
    "    T = np.round(2*np.pi/(a*time_step))\n",
    "    k = k % T\n",
    "    delta = np.pi/2\n",
    "    xref = xref_start + A*np.sin(a*k*time_step + delta)\n",
    "    yref = yref_start + B*np.sin(b*k*time_step)\n",
    "    v = [A*a*np.cos(a*k*time_step + delta), B*b*np.cos(b*k*time_step)]\n",
    "    thetaref = np.arctan2(v[1], v[0])\n",
    "    return [xref, yref, thetaref]"
   ]
  },
  {
   "cell_type": "code",
   "execution_count": 16,
   "metadata": {},
   "outputs": [],
   "source": [
    "def ref_state_list(i,k):\n",
    "    \n",
    "    ref_state_list = np.zeros((3,k-i))\n",
    "\n",
    "    ind = 0\n",
    "\n",
    "    for m in range(i,k):\n",
    "        ref_state_list[:,ind] = lissajous(m)\n",
    "        ind = ind + 1\n",
    "\n",
    "    return ref_state_list"
   ]
  },
  {
   "cell_type": "code",
   "execution_count": 23,
   "metadata": {},
   "outputs": [],
   "source": [
    "ref = ref_state_list(20,50)"
   ]
  },
  {
   "cell_type": "code",
   "execution_count": 27,
   "metadata": {},
   "outputs": [
    {
     "data": {
      "text/plain": [
       "array([-1.1755705 , -1.45793725, -1.68865585, -1.85955297, -1.9645745 ,\n",
       "       -2.        , -1.9645745 , -1.85955297, -1.68865585, -1.45793725,\n",
       "       -1.1755705 , -0.85155858, -0.49737977, -0.12558104,  0.25066647,\n",
       "        0.61803399,  0.96350735,  1.27484798,  1.54102649,  1.75261336,\n",
       "        1.90211303,  1.9842294 ,  1.99605346,  1.93716632,  1.8096541 ,\n",
       "        1.61803399,  1.36909421,  1.07165359,  0.73624911,  0.37476263])"
      ]
     },
     "execution_count": 27,
     "metadata": {},
     "output_type": "execute_result"
    }
   ],
   "source": [
    "ref[1,:]"
   ]
  },
  {
   "cell_type": "code",
   "execution_count": null,
   "metadata": {},
   "outputs": [],
   "source": []
  }
 ],
 "metadata": {
  "interpreter": {
   "hash": "1269f867419608ab7fae571f8861ffc7b43c06843c6b06bfa5b8be8a46809fc8"
  },
  "kernelspec": {
   "display_name": "Python 3.8.8 ('base')",
   "language": "python",
   "name": "python3"
  },
  "language_info": {
   "codemirror_mode": {
    "name": "ipython",
    "version": 3
   },
   "file_extension": ".py",
   "mimetype": "text/x-python",
   "name": "python",
   "nbconvert_exporter": "python",
   "pygments_lexer": "ipython3",
   "version": "3.8.8"
  },
  "orig_nbformat": 4
 },
 "nbformat": 4,
 "nbformat_minor": 2
}
